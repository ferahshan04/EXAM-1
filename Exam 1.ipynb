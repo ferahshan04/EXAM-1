{
 "cells": [
  {
   "cell_type": "code",
   "execution_count": 1,
   "id": "f9a1273b",
   "metadata": {},
   "outputs": [],
   "source": [
    "import os\n",
    "import pandas as pd\n",
    "import numpy as np\n",
    "import matplotlib.pyplot as plt\n",
    "import seaborn as sns"
   ]
  },
  {
   "cell_type": "code",
   "execution_count": 2,
   "id": "8e0383e2",
   "metadata": {},
   "outputs": [],
   "source": [
    "os.chdir('C:\\\\Users\\\\Ferah Shan\\\\Downloads')"
   ]
  },
  {
   "cell_type": "code",
   "execution_count": 3,
   "id": "57448037",
   "metadata": {},
   "outputs": [],
   "source": [
    "ipl_bbb = pd.read_csv(\"IPL_ball_by_ball_updated till 2024.csv\", low_memory=False)"
   ]
  },
  {
   "cell_type": "code",
   "execution_count": 6,
   "id": "076de0f2",
   "metadata": {},
   "outputs": [],
   "source": [
    "import scipy.stats as st\n",
    "\n",
    "def get_best_distribution(data):\n",
    "    dist_names = ['alpha','beta','betaprime','burr12','crystalball',\n",
    "                  'dgamma','dweibull','erlang','exponnorm','f','fatiguelife',\n",
    "                  'gamma','gengamma','gumbel_l','johnsonsb','kappa4',\n",
    "                  'lognorm','nct','norm','norminvgauss','powernorm','rice',\n",
    "                  'recipinvgauss','t','trapz','truncnorm']\n",
    "    dist_results = []\n",
    "    params = {}\n",
    "    for dist_name in dist_names:\n",
    "        dist = getattr(st, dist_name)\n",
    "        param = dist.fit(data)\n",
    "        params[dist_name] = param\n",
    "        \n",
    "        D, p = st.kstest(data, dist_name, args=param)\n",
    "        print(\"p value for \"+dist_name+\" = \"+str(p))\n",
    "        dist_results.append((dist_name, p))\n",
    "   \n",
    "    best_dist, best_p = (max(dist_results, key=lambda item: item[1]))\n",
    "    \n",
    "    print(\"\\nBest fitting distribution: \"+str(best_dist))\n",
    "    print(\"Best p value: \"+ str(best_p))\n",
    "    print(\"Parameters for the best fit: \"+ str(params[best_dist]))\n",
    "    return best_dist, best_p, params[best_dist]"
   ]
  },
  {
   "cell_type": "code",
   "execution_count": 7,
   "id": "94f18e78",
   "metadata": {},
   "outputs": [
    {
     "name": "stdout",
     "output_type": "stream",
     "text": [
      "\n",
      "Best fit distribution for wickets taken by: RG Sharma\n",
      "p value for alpha = 4.2660499393839626e-58\n",
      "p value for beta = 0.11415840466328053\n",
      "p value for betaprime = 0.08497957251270649\n",
      "p value for burr12 = 7.308468380168264e-13\n",
      "p value for crystalball = 0.00025185125549376415\n",
      "p value for dgamma = 9.01396419525256e-06\n",
      "p value for dweibull = 8.630302322439815e-07\n",
      "p value for erlang = 0.0020042152764490513\n",
      "p value for exponnorm = 0.25792765995841016\n",
      "p value for f = 9.489851892820956e-44\n",
      "p value for fatiguelife = 0.03266837625674257\n",
      "p value for gamma = 1.725622048913048e-07\n",
      "p value for gengamma = 0.028459845061022948\n",
      "p value for gumbel_l = 6.206497964432987e-11\n",
      "p value for johnsonsb = 0.358351649664293\n",
      "p value for kappa4 = 7.412469126839709e-30\n",
      "p value for lognorm = 4.6940510185140297e-66\n",
      "p value for nct = 0.0748787798870133\n",
      "p value for norm = 0.0002518515468125354\n",
      "p value for norminvgauss = 0.05593102898731506\n",
      "p value for powernorm = 7.580125838068554e-05\n",
      "p value for rice = 7.019444872806493e-05\n",
      "p value for recipinvgauss = 1.1153131551816901e-05\n",
      "p value for t = 0.00017966399509757345\n",
      "p value for trapz = 7.953825110064789e-93\n",
      "p value for truncnorm = 0.0007355631284158111\n",
      "\n",
      "Best fitting distribution: johnsonsb\n",
      "Best p value: 0.358351649664293\n",
      "Parameters for the best fit: (1.0188059199310264, 0.6031242643208398, -0.516788739160724, 112.44619735061926)\n",
      "\n",
      "\n",
      "\n"
     ]
    }
   ],
   "source": [
    "import warnings\n",
    "warnings.filterwarnings('ignore')\n",
    "\n",
    "runs = ipl_bbb.groupby(['Striker','Match id'])[['runs_scored']].sum().reset_index()\n",
    "chosen_Striker = \"RG Sharma\"  \n",
    "print(\"\")\n",
    "print(\"Best fit distribution for wickets taken by:\", chosen_Striker)\n",
    "get_best_distribution(runs[runs[\"Striker\"] == chosen_Striker][\"runs_scored\"])\n",
    "print(\"\\n\\n\")"
   ]
  },
  {
   "cell_type": "code",
   "execution_count": null,
   "id": "039b4f42",
   "metadata": {},
   "outputs": [],
   "source": []
  }
 ],
 "metadata": {
  "kernelspec": {
   "display_name": "Python 3 (ipykernel)",
   "language": "python",
   "name": "python3"
  },
  "language_info": {
   "codemirror_mode": {
    "name": "ipython",
    "version": 3
   },
   "file_extension": ".py",
   "mimetype": "text/x-python",
   "name": "python",
   "nbconvert_exporter": "python",
   "pygments_lexer": "ipython3",
   "version": "3.11.5"
  }
 },
 "nbformat": 4,
 "nbformat_minor": 5
}
